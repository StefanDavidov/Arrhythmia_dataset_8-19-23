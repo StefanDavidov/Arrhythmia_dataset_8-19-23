{
 "cells": [
  {
   "cell_type": "markdown",
   "metadata": {},
   "source": [
    "What I did: \n",
    "First Accuracy: 0.00\n",
    "Why: because relu_Predict_all_all_all_all_all didn't have values 0 or 1 only intermediate\n",
    "    Change - ran a for loop to make all values 0 or 1\n",
    "Second Accuracy: .12897\n",
    "Why: Possibly because I miss labeled values 0 and 1\n",
    "    Change - I swapped the values of 0 and 1\n",
    "Third Accuracy: .879129\n",
    "Why: All values in the test data are positive?\n",
    "    Change - Mistake in the changing from 2-16 to 1 Also swapped label values back to normal - reverted second trial\n",
    "Fourth Accuracy: 0.3846154 Also tested against only types 1 and 2 and got .14035\n",
    "Why: ? possibly poor feature selection? still looking into it -- Standardize the data first with sklearn standardscalar "
   ]
  },
  {
   "cell_type": "code",
   "execution_count": 123,
   "metadata": {},
   "outputs": [],
   "source": [
    "import pandas as pd\n",
    "import numpy as np\n",
    "import matplotlib.pyplot as plt\n",
    "\n",
    "import warnings\n",
    "warnings.filterwarnings(\"ignore\")\n",
    "\n",
    "\n",
    "df = pd.read_csv(\"./data_arrhythmia.csv\", delimiter=\";\")"
   ]
  },
  {
   "cell_type": "code",
   "execution_count": 124,
   "metadata": {},
   "outputs": [
    {
     "data": {
      "text/plain": [
       "[\"S'_wave\",\n",
       " 'CB',\n",
       " 'CD',\n",
       " 'CS',\n",
       " 'EV',\n",
       " 'EY',\n",
       " 'FF',\n",
       " 'FH',\n",
       " 'FJ',\n",
       " 'FL',\n",
       " 'FS',\n",
       " 'FZ',\n",
       " 'GA',\n",
       " 'GH',\n",
       " 'IB',\n",
       " 'KP',\n",
       " 'LC']"
      ]
     },
     "execution_count": 124,
     "metadata": {},
     "output_type": "execute_result"
    }
   ],
   "source": [
    "#Some of the columns have only one value so we will classify them as no info\n",
    "no_info_cols = []\n",
    "num_cols = df.shape[1]\n",
    "for index in range(num_cols):\n",
    "    if len(df.iloc[:,index].unique()) == 1:\n",
    "        no_info_cols.append(df.columns[index])\n",
    "no_info_cols"
   ]
  },
  {
   "cell_type": "code",
   "execution_count": 125,
   "metadata": {},
   "outputs": [],
   "source": [
    "from sklearn.impute import SimpleImputer\n",
    "from sklearn.model_selection import train_test_split\n",
    "#height seems to be wrong, and age 0 and weight 10kg suggest missing decimal point for 60.8\n",
    "#changing value of height to 61 cm\n",
    "df.loc[df['age'] == 0, 'height'] = 61\n",
    "#age 1 weight 6 suggest height to be 78 cm rather than 780\n",
    "df.loc[df['height'] == 780, 'height'] = 78\n",
    "df1 = df.copy()\n",
    "df1 = df.drop(columns=no_info_cols)\n",
    "df2 = df1.copy()\n",
    "df2 = df1.drop(columns=['J'])\n",
    "#wasn't registering ? as NaN had to replace\n",
    "df2 = df2.replace('?', np.nan)\n",
    "#changing all of the NaN to median values\n",
    "df3 = df2.copy()\n",
    "X_df = df3.loc[:,df3.columns != 'diagnosis']\n",
    "X = np.array(X_df)\n",
    "imp = SimpleImputer(missing_values=np.nan, strategy='median')\n",
    "imp = imp.fit(X)\n",
    "X_imp = imp.transform(X)\n",
    "X_imp = pd.DataFrame(X_imp)\n",
    "y = df2[df2.columns[-1]]\n",
    "X_train_with_all, X_test_with_all, y_train_with_all, y_test_with_all = train_test_split(X_imp, y, test_size=.2, random_state = 0)\n",
    "type_1 = set(y_train_with_all[y_train_with_all == 1].index)\n",
    "type_2 = set(y_train_with_all[y_train_with_all != 2].index)\n",
    "type_1_2 = type_2 - type_1\n",
    "X_train_without_all = X_train_with_all.copy()\n",
    "X_train_without_all = X_train_with_all.drop(type_1_2)\n",
    "y_train_without_all = y_train_with_all.copy\n",
    "y_train_without_all = y_train_with_all.drop(type_1_2)\n",
    "\n",
    "type_1 = set(y_test_with_all[y_test_with_all == 1].index)\n",
    "type_2 = set(y_test_with_all[y_test_with_all != 2].index)\n",
    "type_1_2 = type_2 - type_1\n",
    "X_test_without_all = X_test_with_all.copy\n",
    "X_test_without_all = X_test_with_all.drop(type_1_2)\n",
    "y_test_without_all = y_test_with_all.copy()\n",
    "y_test_without_all = y_test_with_all.drop(type_1_2)\n"
   ]
  },
  {
   "cell_type": "code",
   "execution_count": 126,
   "metadata": {},
   "outputs": [],
   "source": [
    "from sklearn import preprocessing\n",
    "\n",
    "X_train_without_all = preprocessing.StandardScaler().fit_transform(X_train_without_all)\n",
    "X_test_with_all = preprocessing.StandardScaler().fit_transform(X_test_with_all)\n",
    "X_test_without_all = preprocessing.StandardScaler().fit_transform(X_test_without_all)\n"
   ]
  },
  {
   "cell_type": "code",
   "execution_count": 127,
   "metadata": {},
   "outputs": [],
   "source": [
    "#IMPLEMENT FISHERS SCORE FOR FEATURE SELECTION"
   ]
  },
  {
   "cell_type": "code",
   "execution_count": 128,
   "metadata": {},
   "outputs": [],
   "source": [
    "#Changed values from 1 is negative and 2 is positive to 0 neg 1 pos\n",
    "y_train_without_all = y_train_without_all.replace(1,0)\n",
    "y_train_without_all = y_train_without_all.replace(2,1)\n"
   ]
  },
  {
   "cell_type": "code",
   "execution_count": 129,
   "metadata": {},
   "outputs": [
    {
     "name": "stdout",
     "output_type": "stream",
     "text": [
      "8/8 [==============================] - 1s 4ms/step - loss: 0.6906\n",
      "3/3 [==============================] - 0s 3ms/step\n",
      "2/2 [==============================] - 0s 8ms/step\n"
     ]
    }
   ],
   "source": [
    "#started with 25-15-10 relu, added 1 sigmoid because binary_crossentropy requires it to be functional\n",
    "import tensorflow as tf\n",
    "import keras\n",
    "from keras import layers\n",
    "\n",
    "tf.random.set_seed(1234)\n",
    "model_Relu = keras.Sequential(\n",
    "    [\n",
    "        layers.Dense(units=25, activation=\"relu\", kernel_initializer='normal', name=\"layer1\"),\n",
    "        layers.Dense(units=15, activation=\"relu\", kernel_initializer='normal', name=\"layer2\"),\n",
    "        layers.Dense(units=10, activation=\"relu\", kernel_initializer='normal', name=\"layer3\"),\n",
    "        layers.Dense(units=1, activation=\"sigmoid\", kernel_initializer='normal', name=\"layer4\"),\n",
    "    ]\n",
    ")\n",
    "model_Relu.compile(loss='binary_crossentropy')\n",
    "model_Relu.fit(X_train_without_all, y_train_without_all)\n",
    "relu_Predict_all = model_Relu.predict(X_test_with_all)\n",
    "relu_Predict_without_all = model_Relu.predict(X_test_without_all)"
   ]
  },
  {
   "cell_type": "code",
   "execution_count": 139,
   "metadata": {},
   "outputs": [
    {
     "name": "stdout",
     "output_type": "stream",
     "text": [
      "8/8 [==============================] - 1s 3ms/step - loss: 0.6329\n",
      "3/3 [==============================] - 0s 0s/step\n",
      "2/2 [==============================] - 0s 9ms/step\n"
     ]
    }
   ],
   "source": [
    "def bump_activation(x, sigma=0.5):\n",
    "   \n",
    "    return tf.math.exp(-0.5 * tf.math.square(x) / tf.math.square(sigma))\n",
    "\n",
    "model_Bump = keras.Sequential(\n",
    "    [\n",
    "        layers.Dense(units=25, activation=lambda x: bump_activation(x), kernel_initializer='normal', name=\"layer1\"),\n",
    "        layers.Dense(units=15, activation=lambda x: bump_activation(x), kernel_initializer='normal', name=\"layer2\"),\n",
    "        layers.Dense(units=10, activation=lambda x: bump_activation(x), kernel_initializer='normal', name=\"layer3\"),\n",
    "        layers.Dense(units=1, activation=\"sigmoid\", kernel_initializer='normal', name=\"layer4\"),\n",
    "    ]\n",
    ")\n",
    "model_Bump.compile(loss='binary_crossentropy')\n",
    "model_Bump.fit(X_train_without_all, y_train_without_all)\n",
    "bump_Predict_all = model_Bump.predict(X_test_with_all)\n",
    "bump_Predict_without_all = model_Bump.predict(X_test_without_all)"
   ]
  },
  {
   "cell_type": "code",
   "execution_count": 131,
   "metadata": {},
   "outputs": [],
   "source": [
    "def get_metrics(test_values, predict_values):\n",
    "    accuracyF = metrics.Accuracy()\n",
    "    accuracyF.update_state(test_values, predict_values)\n",
    "    accuracy = accuracyF.result().numpy()\n",
    "    print(\"Accuracy: \" + str(accuracy))\n",
    "\n",
    "    truePositiveF = metrics.TruePositives()\n",
    "    truePositiveF.update_state(test_values, predict_values)\n",
    "    truePositive = truePositiveF.result().numpy()\n",
    "    print(\"True Positive: \" +  str(truePositive))\n",
    "\n",
    "    trueNegativeF = metrics.TrueNegatives()\n",
    "    trueNegativeF.update_state(test_values, predict_values)\n",
    "    trueNegative = trueNegativeF.result().numpy()\n",
    "    print(\"True Negative: \" +  str(trueNegative))\n",
    "\n",
    "    falsePositiveF = metrics.FalsePositives()\n",
    "    falsePositiveF.update_state(test_values, predict_values)\n",
    "    falsePositive = falsePositiveF.result().numpy()\n",
    "    print(\"False Positive: \" +  str(falsePositive))\n",
    "\n",
    "    falseNegativeF = metrics.FalseNegatives()\n",
    "    falseNegativeF.update_state(test_values, predict_values)\n",
    "    falseNegative = falseNegativeF.result().numpy()\n",
    "    print(\"False Negative: \" +  str(falseNegative))"
   ]
  },
  {
   "cell_type": "code",
   "execution_count": 132,
   "metadata": {},
   "outputs": [
    {
     "data": {
      "text/plain": [
       "array([0, 0, 0, 0, 1, 0, 0, 1, 0, 0, 1, 1, 0, 0, 0, 0, 0, 1, 0, 0, 1, 0,\n",
       "       0, 0, 0, 0, 0, 0, 0, 0, 0, 0, 0, 1, 0, 1, 0, 0, 0, 0, 0, 0, 0, 0,\n",
       "       0, 0, 0, 0, 0, 0, 0, 0, 0, 0, 0, 0, 0], dtype=int64)"
      ]
     },
     "execution_count": 132,
     "metadata": {},
     "output_type": "execute_result"
    }
   ],
   "source": [
    "y_test_with_all_value_0_1 = y_test_with_all\n",
    "y_test_with_all_value_0_1 = y_test_with_all.replace(1,0)\n",
    "y_test_with_all_value_0_1 = y_test_with_all_value_0_1.replace([2,3,4,5,6,7,8,9,10,11,12,13,14,15,16],[1,1,1,1,1,1,1,1,1,1,1,1,1,1,1])\n",
    "y_test_with_all_value_0_1.to_numpy()\n",
    "\n",
    "y_test_with_out_all_value_0_1 = y_test_without_all\n",
    "y_test_with_out_all_value_0_1 = y_test_without_all.replace(1,0)\n",
    "y_test_with_out_all_value_0_1 = y_test_with_out_all_value_0_1.replace(2,1)\n",
    "y_test_with_out_all_value_0_1.to_numpy()"
   ]
  },
  {
   "cell_type": "code",
   "execution_count": 133,
   "metadata": {},
   "outputs": [],
   "source": [
    "# converted all values of relu_Predict_all to either 0 or 1\n",
    "for i in range(len(relu_Predict_all)):\n",
    "    if relu_Predict_all[i]< .5:\n",
    "        relu_Predict_all[i] = 1\n",
    "    else:\n",
    "        relu_Predict_all[i] = 0\n",
    "\n",
    "for i in range(len(relu_Predict_without_all)):\n",
    "    if relu_Predict_without_all[i]< .5:\n",
    "        relu_Predict_without_all[i] = 1\n",
    "    else:\n",
    "        relu_Predict_without_all[i] = 0\n"
   ]
  },
  {
   "cell_type": "code",
   "execution_count": 134,
   "metadata": {},
   "outputs": [
    {
     "name": "stdout",
     "output_type": "stream",
     "text": [
      "Accuracy: 0.46153846\n",
      "True Positive: 42.0\n",
      "True Negative: 0.0\n",
      "False Positive: 49.0\n",
      "False Negative: 0.0\n"
     ]
    }
   ],
   "source": [
    "from tensorflow import metrics\n",
    "get_metrics(y_test_with_all_value_0_1, relu_Predict_all)"
   ]
  },
  {
   "cell_type": "code",
   "execution_count": 135,
   "metadata": {},
   "outputs": [
    {
     "name": "stdout",
     "output_type": "stream",
     "text": [
      "Accuracy: 0.14035088\n",
      "True Positive: 8.0\n",
      "True Negative: 0.0\n",
      "False Positive: 49.0\n",
      "False Negative: 0.0\n"
     ]
    }
   ],
   "source": [
    "get_metrics(y_test_with_out_all_value_0_1, relu_Predict_without_all)\n"
   ]
  },
  {
   "cell_type": "code",
   "execution_count": 141,
   "metadata": {},
   "outputs": [
    {
     "name": "stdout",
     "output_type": "stream",
     "text": [
      "Accuracy: 0.0\n",
      "True Positive: 0.0\n",
      "True Negative: 0.0\n",
      "False Positive: 0.0\n",
      "False Negative: 91.0\n"
     ]
    }
   ],
   "source": [
    "get_metrics(y_test_with_all, bump_Predict_all)"
   ]
  },
  {
   "cell_type": "code",
   "execution_count": 140,
   "metadata": {},
   "outputs": [
    {
     "name": "stdout",
     "output_type": "stream",
     "text": [
      "Accuracy: 0.0\n",
      "True Positive: 0.0\n",
      "True Negative: 0.0\n",
      "False Positive: 0.0\n",
      "False Negative: 57.0\n"
     ]
    }
   ],
   "source": [
    "get_metrics(y_test_without_all, bump_Predict_without_all)"
   ]
  }
 ],
 "metadata": {
  "kernelspec": {
   "display_name": "Python 3",
   "language": "python",
   "name": "python3"
  },
  "language_info": {
   "codemirror_mode": {
    "name": "ipython",
    "version": 3
   },
   "file_extension": ".py",
   "mimetype": "text/x-python",
   "name": "python",
   "nbconvert_exporter": "python",
   "pygments_lexer": "ipython3",
   "version": "3.11.4"
  },
  "orig_nbformat": 4
 },
 "nbformat": 4,
 "nbformat_minor": 2
}
